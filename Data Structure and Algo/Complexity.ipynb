{
 "cells": [
  {
   "cell_type": "markdown",
   "metadata": {},
   "source": [
    "O(1)"
   ]
  },
  {
   "cell_type": "code",
   "execution_count": 2,
   "metadata": {},
   "outputs": [
    {
     "name": "stdout",
     "output_type": "stream",
     "text": [
      "True\n",
      "10\n"
     ]
    },
    {
     "data": {
      "text/plain": [
       "10"
      ]
     },
     "execution_count": 2,
     "metadata": {},
     "output_type": "execute_result"
    }
   ],
   "source": [
    "# Array\n",
    "nums = [1, 2, 3]\n",
    "nums.append(4)    # push to end\n",
    "nums.pop()        # pop from end\n",
    "nums[0]           # lookup\n",
    "nums[1]\n",
    "nums[2]\n",
    "\n",
    "\n",
    "# HashMap / Set\n",
    "hashMap = {}\n",
    "hashMap[\"key\"] = 10     # insert\n",
    "print(\"key\" in hashMap) # lookup\n",
    "print(hashMap[\"key\"])   # lookup\n",
    "hashMap.pop(\"key\")      # remove\n"
   ]
  },
  {
   "cell_type": "markdown",
   "metadata": {},
   "source": [
    "O(n)"
   ]
  },
  {
   "cell_type": "code",
   "execution_count": 3,
   "metadata": {},
   "outputs": [
    {
     "name": "stdout",
     "output_type": "stream",
     "text": [
      "1\n",
      "2\n",
      "3\n",
      "False\n"
     ]
    }
   ],
   "source": [
    "nums = [1, 2, 3]\n",
    "sum(nums)           # sum of array\n",
    "for n in nums:      # looping\n",
    "    print(n)\n",
    "\n",
    "nums.insert(1, 100) # insert middle\n",
    "nums.remove(100)    # remove middle\n",
    "print(100 in nums)  # search\n",
    "\n",
    "import heapq\n",
    "heapq.heapify(nums) # build heap\n",
    "\n",
    "# sometimes even nested loops can be O(n)\n",
    "# (e.g. monotonic stack or sliding window)\n"
   ]
  },
  {
   "cell_type": "markdown",
   "metadata": {},
   "source": [
    "O(n^2)"
   ]
  },
  {
   "cell_type": "code",
   "execution_count": null,
   "metadata": {},
   "outputs": [],
   "source": [
    "# Traverse a square grid\n",
    "nums = [[1, 2, 3], [4, 5, 6], [7, 8, 9]]\n",
    "for i in range(len(nums)):\n",
    "    for j in range(len(nums[i])): \n",
    "        print(nums[i][j])\n",
    "\n",
    "\n",
    "# Get every pair of elements in array\n",
    "nums = [1, 2, 3]\n",
    "for i in range(len(nums)):\n",
    "    for j in range(i + 1, len(nums)):\n",
    "        print(nums[i], nums[j])\n",
    "\n",
    "# Insertion sort (insert in middle n times -> n^2)\n"
   ]
  },
  {
   "cell_type": "markdown",
   "metadata": {},
   "source": [
    "O(n*m)"
   ]
  },
  {
   "cell_type": "code",
   "execution_count": null,
   "metadata": {},
   "outputs": [],
   "source": [
    "# Get every pair of elements from two arrays\n",
    "nums1, nums2 = [1, 2, 3], [4, 5]\n",
    "for i in range(len(nums1)):\n",
    "    for j in range(len(nums2)):\n",
    "        print(nums1[i], nums2[j])\n",
    "\n",
    "# Traverse rectangle grid\n",
    "nums = [[1, 2, 3], [4, 5, 6]]\n",
    "for i in range(len(nums)):\n",
    "    for j in range(len(nums[i])):\n",
    "        print(nums[i][j])\n",
    "O( n^3 )\n",
    "# Get every triplet of elements in array\n",
    "nums = [1, 2, 3]\n",
    "for i in range(len(nums)):\n",
    "    for j in range(i + 1, len(nums)):\n",
    "        for k in range(j + 1, len(nums)):\n",
    "            print(nums[i], nums[j], nums[k])\n"
   ]
  },
  {
   "cell_type": "markdown",
   "metadata": {},
   "source": [
    "O(logn)"
   ]
  },
  {
   "cell_type": "code",
   "execution_count": null,
   "metadata": {},
   "outputs": [],
   "source": [
    "# Binary search\n",
    "nums = [1, 2, 3, 4, 5]\n",
    "target = 6\n",
    "l, r = 0, len(nums) - 1\n",
    "while l <= r:\n",
    "    m = (l + r) // 2\n",
    "    if target < nums[m]:\n",
    "        r = m - 1\n",
    "    elif target > nums[m]:\n",
    "        l = m + 1\n",
    "    else:\n",
    "        print(m)\n",
    "        break\n",
    "\n",
    "# Binary Search on BST\n",
    "def search(root, target):\n",
    "    if not root:\n",
    "        return False\n",
    "    if target < root.val:\n",
    "        return search(root.left, target)\n",
    "    elif target > root.val:\n",
    "        return search(root.right, target)\n",
    "    else: \n",
    "        return True\n",
    "\n",
    "# Heap Push and Pop\n",
    "import heapq\n",
    "minHeap = []\n",
    "heapq.heappush(minHeap, 5)\n",
    "heapq.heappop(minHeap)\n"
   ]
  },
  {
   "cell_type": "markdown",
   "metadata": {},
   "source": [
    "O(n logn)"
   ]
  },
  {
   "cell_type": "code",
   "execution_count": null,
   "metadata": {},
   "outputs": [],
   "source": [
    "# HeapSort\n",
    "import heapq\n",
    "nums = [1, 2, 3, 4, 5]\n",
    "heapq.heapify(nums)     # O(n)\n",
    "while nums:\n",
    "    heapq.heappop(nums) # O(logn)\n",
    "\n",
    "# MergeSort (and most built-in sorting functions)\n"
   ]
  },
  {
   "cell_type": "markdown",
   "metadata": {},
   "source": [
    "O(2^n)"
   ]
  },
  {
   "cell_type": "code",
   "execution_count": 4,
   "metadata": {},
   "outputs": [],
   "source": [
    "# Recursion, tree height n, two branches\n",
    "def recursion(i, nums):\n",
    "    if i == len(nums):\n",
    "        return 0\n",
    "    branch1 = recursion(i + 1, nums)\n",
    "    branch2 = recursion(i + 2, nums)\n"
   ]
  },
  {
   "cell_type": "markdown",
   "metadata": {},
   "source": [
    "O(c^n)"
   ]
  },
  {
   "cell_type": "code",
   "execution_count": 5,
   "metadata": {},
   "outputs": [],
   "source": [
    "# c branches, where c is sometimes n.\n",
    "def recursion(i, nums, c):\n",
    "    if i == len(nums):\n",
    "        return 0\n",
    "    \n",
    "    for j in range(i, i + c):\n",
    "        branch = recursion(j + 1, nums)\n"
   ]
  },
  {
   "cell_type": "markdown",
   "metadata": {},
   "source": [
    "O( sqrt(n) )"
   ]
  },
  {
   "cell_type": "code",
   "execution_count": null,
   "metadata": {},
   "outputs": [],
   "source": [
    "# Get all factors of n\n",
    "import math\n",
    "n = 12\n",
    "factors = set()\n",
    "for i in range(1, int(math.sqrt(n)) + 1):\n",
    "    if n % i == 0:\n",
    "        factors.add(i)\n",
    "        factors.add(n // i)\n"
   ]
  },
  {
   "cell_type": "markdown",
   "metadata": {},
   "source": [
    "O( n! )\n",
    "\n",
    "Permutations - \n",
    "Travelling Salesman Problem"
   ]
  },
  {
   "cell_type": "markdown",
   "metadata": {},
   "source": []
  }
 ],
 "metadata": {
  "kernelspec": {
   "display_name": "Python 3",
   "language": "python",
   "name": "python3"
  },
  "language_info": {
   "codemirror_mode": {
    "name": "ipython",
    "version": 3
   },
   "file_extension": ".py",
   "mimetype": "text/x-python",
   "name": "python",
   "nbconvert_exporter": "python",
   "pygments_lexer": "ipython3",
   "version": "3.10.6"
  }
 },
 "nbformat": 4,
 "nbformat_minor": 2
}
